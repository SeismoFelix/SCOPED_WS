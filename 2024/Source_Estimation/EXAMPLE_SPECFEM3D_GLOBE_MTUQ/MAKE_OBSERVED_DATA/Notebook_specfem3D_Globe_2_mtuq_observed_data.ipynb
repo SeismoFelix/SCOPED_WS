{
 "cells": [
  {
   "cell_type": "markdown",
   "id": "a0fdd40b-0eaa-4d5c-8db8-667549953bd8",
   "metadata": {},
   "source": [
    "# Preprocessing SPECFEM3D (Globe) for making MTUQ \"observed\" data\n",
    "### Félix Rodríguez-Cardozo and Jochen Braunmiller\n",
    "\n",
    "The following Notebook provides instructions for running the script specfem3D_Globe_2_mtuq_observed_data.py. This script reads the synthetic seismograms created by Specfem3D Globe and convert them into SAC files with the format required by MTUQ for input observed data. The aim of such synthetic \"observed\" data is to run synthetic MTUQ moment tensor estimations. specfem3D_Globe_2_mtuq_observed_data.py runs in the same environment used for mtuq."
   ]
  },
  {
   "cell_type": "markdown",
   "id": "f0540330-f006-46a1-b03c-204e7bc3c6f8",
   "metadata": {},
   "source": [
    "### 0. Explore the directories\n"
   ]
  },
  {
   "cell_type": "code",
   "execution_count": 1,
   "id": "29b5e4c8-00f8-43d8-931b-e13c98ac42da",
   "metadata": {},
   "outputs": [
    {
     "name": "stdout",
     "output_type": "stream",
     "text": [
      "\u001b[34m20171201023244\u001b[m\u001b[m\n",
      "Notebook_specfem3D_Globe_2_mtuq_observed_data.ipynb\n",
      "\u001b[34m__pycache__\u001b[m\u001b[m\n",
      "specfem3D_Globe_2_mtuq_observed_data.py\n"
     ]
    }
   ],
   "source": [
    "! ls"
   ]
  },
  {
   "cell_type": "code",
   "execution_count": 2,
   "id": "a0aeb797-08b4-4b7e-9dc8-5c09b6e7cbe9",
   "metadata": {},
   "outputs": [
    {
     "name": "stdout",
     "output_type": "stream",
     "text": [
      "\u001b[34mDATA\u001b[m\u001b[m         \u001b[34mOUTPUT_FILES\u001b[m\u001b[m\n"
     ]
    }
   ],
   "source": [
    "! ls 20171201023244"
   ]
  },
  {
   "cell_type": "markdown",
   "id": "ff7978a9-e5c4-4404-9189-7cea2d956f6e",
   "metadata": {},
   "source": [
    " - **2017120102324**: directory with the Specfem3D Globe simulation outcome. Inside that directory, must be placed the DATA and OUTPUT_FILES directories. \n",
    " - **specfem3D_Globe_2_mtuq_observed_data.py**: script for converting the Specfem3D synthetics into MTUQ observed data. \n",
    " - **Notebook_specfem3D_Globe_2_mtuq_observed_data.ipynb**: this notebook. "
   ]
  },
  {
   "cell_type": "code",
   "execution_count": 3,
   "id": "eb8dc742-54b9-4500-8cea-f20ab853714a",
   "metadata": {},
   "outputs": [
    {
     "data": {
      "text/plain": [
       "<module 'specfem3D_Globe_2_mtuq_observed_data' from '/Users/felix/Documents/POSTDOC/INVESTIGACION/6_FEB_AUG_2024/SCOPED_WORKSHOP/SEND_github/EXAMPLE_SPECFEM3D_GLOBE2_MTUQ/MAKE_OBSERVED_DATA/specfem3D_Globe_2_mtuq_observed_data.py'>"
      ]
     },
     "execution_count": 3,
     "metadata": {},
     "output_type": "execute_result"
    }
   ],
   "source": [
    "#Load the script as a Python library\n",
    "import specfem3D_Globe_2_mtuq_observed_data\n",
    "import importlib\n",
    "import os\n",
    "importlib.reload(specfem3D_Globe_2_mtuq_observed_data)"
   ]
  },
  {
   "cell_type": "markdown",
   "id": "b5d372e8-24f5-46b7-a0e8-7778d1d1e032",
   "metadata": {},
   "source": [
    "If you are going to run again this notebook, the next line will remove the PROCESSED directory which is the final result of this manual. If this is your first time here, you can skip the next instruction."
   ]
  },
  {
   "cell_type": "code",
   "execution_count": 4,
   "id": "afcffd46-34de-4c9c-938d-e1bbcd1754ac",
   "metadata": {},
   "outputs": [
    {
     "name": "stdout",
     "output_type": "stream",
     "text": [
      "rm -r PROCESSED\n"
     ]
    },
    {
     "name": "stderr",
     "output_type": "stream",
     "text": [
      "rm: PROCESSED: No such file or directory\n"
     ]
    }
   ],
   "source": [
    "#Clean space work\n",
    "specfem3D_Globe_2_mtuq_observed_data.clean()"
   ]
  },
  {
   "cell_type": "markdown",
   "id": "05eb9d30-54d4-414c-9257-75358ccdcab5",
   "metadata": {},
   "source": [
    "### 1. Gathering information about Specfem3D simulation\n",
    "In this stept the Specfem3D CMTSOLUTION  file is read to find out the simulation origin time, and hypocenter. You need to provide the path for finding the Specfem3D OUTPUT_FILES directory. For this example, the path is '20171201023244'."
   ]
  },
  {
   "cell_type": "code",
   "execution_count": 5,
   "id": "d05c83b9-ba75-42b0-b42e-40d0e3298b83",
   "metadata": {},
   "outputs": [
    {
     "name": "stdout",
     "output_type": "stream",
     "text": [
      "\tGathering information about Specfem3D simulation\n",
      "\n"
     ]
    }
   ],
   "source": [
    "main_dir = os.getcwd() \n",
    "path = '20171201023244'\n",
    "evla,evlo,evdp,time,ev_id = specfem3D_Globe_2_mtuq_observed_data.get_event_info(path)"
   ]
  },
  {
   "cell_type": "markdown",
   "id": "ff02bb1d-9416-4e6b-8cc9-e81543ab9c40",
   "metadata": {},
   "source": [
    "### 2. Convert Specfem3D synthetics into MTUQ sac files\n",
    "In this step each SAC file in the OUTPUT_FILES directory is read (e.g., IR.GHIR.MXZ.sem.sac) and SAC files in the MTUQ observed data format will be created (e.g., 20171201023244.IR.GHIR..MX.z). You need to provide the path for Specfem3D OUTPUT_FILES directory, the event id and the origin time. The event id is built based on the event origin time: yyyymmddhhmmss, where y is year, m month, d day, h hour, m minute and s second. The origin time must follow the format yyyy-mm-ddThh:mm:ss. The event id and origin time for this example is 20171201023244 and 2017-12-01T02:32:44.0. You can either provide both directly or use the previous step where the method get_event_info returns those values. "
   ]
  },
  {
   "cell_type": "code",
   "execution_count": 6,
   "id": "07f5b49b-7ab2-49fb-9a9e-8aa8f14fc7fe",
   "metadata": {},
   "outputs": [
    {
     "name": "stdout",
     "output_type": "stream",
     "text": [
      "Event ID 20171201023244\n",
      "Event origin time 2017-12-01T02:32:44.0\n"
     ]
    }
   ],
   "source": [
    "print('Event ID {}'.format(ev_id))\n",
    "print('Event origin time {}'.format(time))"
   ]
  },
  {
   "cell_type": "code",
   "execution_count": 7,
   "id": "ea216638",
   "metadata": {},
   "outputs": [
    {
     "name": "stdout",
     "output_type": "stream",
     "text": [
      "\tConverting plain text seismograms into SAC files\n",
      "\n",
      "Renamig 20171201023244/OUTPUT_FILES/IR.TBJM.MXE.sem.sac\n",
      "PROCESSED/20171201023244.IR.TBJM..MX.e\n",
      "Renamig 20171201023244/OUTPUT_FILES/IR.LAR1.MXE.sem.sac\n",
      "PROCESSED/20171201023244.IR.LAR1..MX.e\n",
      "Renamig 20171201023244/OUTPUT_FILES/IR.SBZV.MXE.sem.sac\n",
      "PROCESSED/20171201023244.IR.SBZV..MX.e\n",
      "Renamig 20171201023244/OUTPUT_FILES/IR.CHBR.MXZ.sem.sac\n",
      "PROCESSED/20171201023244.IR.CHBR..MX.z\n",
      "Renamig 20171201023244/OUTPUT_FILES/IR.NHDN.MXN.sem.sac\n",
      "PROCESSED/20171201023244.IR.NHDN..MX.n\n",
      "Renamig 20171201023244/OUTPUT_FILES/IR.NHDN.MXZ.sem.sac\n",
      "PROCESSED/20171201023244.IR.NHDN..MX.z\n",
      "Renamig 20171201023244/OUTPUT_FILES/IR.CHBR.MXN.sem.sac\n",
      "PROCESSED/20171201023244.IR.CHBR..MX.n\n",
      "Renamig 20171201023244/OUTPUT_FILES/IR.ANAR.MXE.sem.sac\n",
      "PROCESSED/20171201023244.IR.ANAR..MX.e\n",
      "Renamig 20171201023244/OUTPUT_FILES/IR.ANAR.MXN.sem.sac\n",
      "PROCESSED/20171201023244.IR.ANAR..MX.n\n",
      "Renamig 20171201023244/OUTPUT_FILES/IR.LAR1.MXZ.sem.sac\n",
      "PROCESSED/20171201023244.IR.LAR1..MX.z\n",
      "Renamig 20171201023244/OUTPUT_FILES/IR.TBJM.MXZ.sem.sac\n",
      "PROCESSED/20171201023244.IR.TBJM..MX.z\n",
      "Renamig 20171201023244/OUTPUT_FILES/IR.SBZV.MXZ.sem.sac\n",
      "PROCESSED/20171201023244.IR.SBZV..MX.z\n",
      "Renamig 20171201023244/OUTPUT_FILES/IR.CHBR.MXE.sem.sac\n",
      "PROCESSED/20171201023244.IR.CHBR..MX.e\n",
      "Renamig 20171201023244/OUTPUT_FILES/IR.SBZV.MXN.sem.sac\n",
      "PROCESSED/20171201023244.IR.SBZV..MX.n\n",
      "Renamig 20171201023244/OUTPUT_FILES/IR.NHDN.MXE.sem.sac\n",
      "PROCESSED/20171201023244.IR.NHDN..MX.e\n",
      "Renamig 20171201023244/OUTPUT_FILES/IR.ANAR.MXZ.sem.sac\n",
      "PROCESSED/20171201023244.IR.ANAR..MX.z\n",
      "Renamig 20171201023244/OUTPUT_FILES/IR.TBJM.MXN.sem.sac\n",
      "PROCESSED/20171201023244.IR.TBJM..MX.n\n",
      "Renamig 20171201023244/OUTPUT_FILES/IR.LAR1.MXN.sem.sac\n",
      "PROCESSED/20171201023244.IR.LAR1..MX.n\n",
      "Renamig 20171201023244/OUTPUT_FILES/IR.SHI.MXZ.sem.sac\n",
      "PROCESSED/20171201023244.IR.SHI..MX.z\n",
      "Renamig 20171201023244/OUTPUT_FILES/IR.KLNJ.MXN.sem.sac\n",
      "PROCESSED/20171201023244.IR.KLNJ..MX.n\n",
      "Renamig 20171201023244/OUTPUT_FILES/IR.KHNJ.MXN.sem.sac\n",
      "PROCESSED/20171201023244.IR.KHNJ..MX.n\n",
      "Renamig 20171201023244/OUTPUT_FILES/IR.KLNJ.MXZ.sem.sac\n",
      "PROCESSED/20171201023244.IR.KLNJ..MX.z\n",
      "Renamig 20171201023244/OUTPUT_FILES/IR.SHI.MXN.sem.sac\n",
      "PROCESSED/20171201023244.IR.SHI..MX.n\n",
      "Renamig 20171201023244/OUTPUT_FILES/IR.KHNJ.MXZ.sem.sac\n",
      "PROCESSED/20171201023244.IR.KHNJ..MX.z\n",
      "Renamig 20171201023244/OUTPUT_FILES/IR.ZHSF.MXE.sem.sac\n",
      "PROCESSED/20171201023244.IR.ZHSF..MX.e\n",
      "Renamig 20171201023244/OUTPUT_FILES/IR.SHI.MXE.sem.sac\n",
      "PROCESSED/20171201023244.IR.SHI..MX.e\n",
      "Renamig 20171201023244/OUTPUT_FILES/IR.ZHSF.MXN.sem.sac\n",
      "PROCESSED/20171201023244.IR.ZHSF..MX.n\n",
      "Renamig 20171201023244/OUTPUT_FILES/IR.KLNJ.MXE.sem.sac\n",
      "PROCESSED/20171201023244.IR.KLNJ..MX.e\n",
      "Renamig 20171201023244/OUTPUT_FILES/IR.ZHSF.MXZ.sem.sac\n",
      "PROCESSED/20171201023244.IR.ZHSF..MX.z\n",
      "Renamig 20171201023244/OUTPUT_FILES/IR.KHNJ.MXE.sem.sac\n",
      "PROCESSED/20171201023244.IR.KHNJ..MX.e\n"
     ]
    }
   ],
   "source": [
    "#Now convert the Specfem3D SAC files into SAC files according to the MTUQ format for observed data\n",
    "specfem3D_Globe_2_mtuq_observed_data.convert_mtuq_format(path,ev_id,time)"
   ]
  },
  {
   "cell_type": "markdown",
   "id": "b677ca8e-0f15-4c82-84ca-10ee032fed3c",
   "metadata": {},
   "source": [
    "**You can see the new created SAC files in MTUQ format, in the directory PROCESSED:**"
   ]
  },
  {
   "cell_type": "code",
   "execution_count": 8,
   "id": "f070e6d6-798d-4e8d-bf63-646b876c2845",
   "metadata": {},
   "outputs": [
    {
     "name": "stdout",
     "output_type": "stream",
     "text": [
      "PROCESSED/20171201023244.IR.ANAR..MX.e PROCESSED/20171201023244.IR.NHDN..MX.e\n",
      "PROCESSED/20171201023244.IR.ANAR..MX.n PROCESSED/20171201023244.IR.NHDN..MX.n\n",
      "PROCESSED/20171201023244.IR.ANAR..MX.z PROCESSED/20171201023244.IR.NHDN..MX.z\n",
      "PROCESSED/20171201023244.IR.CHBR..MX.e PROCESSED/20171201023244.IR.SBZV..MX.e\n",
      "PROCESSED/20171201023244.IR.CHBR..MX.n PROCESSED/20171201023244.IR.SBZV..MX.n\n",
      "PROCESSED/20171201023244.IR.CHBR..MX.z PROCESSED/20171201023244.IR.SBZV..MX.z\n",
      "PROCESSED/20171201023244.IR.KHNJ..MX.e PROCESSED/20171201023244.IR.SHI..MX.e\n",
      "PROCESSED/20171201023244.IR.KHNJ..MX.n PROCESSED/20171201023244.IR.SHI..MX.n\n",
      "PROCESSED/20171201023244.IR.KHNJ..MX.z PROCESSED/20171201023244.IR.SHI..MX.z\n",
      "PROCESSED/20171201023244.IR.KLNJ..MX.e PROCESSED/20171201023244.IR.TBJM..MX.e\n",
      "PROCESSED/20171201023244.IR.KLNJ..MX.n PROCESSED/20171201023244.IR.TBJM..MX.n\n",
      "PROCESSED/20171201023244.IR.KLNJ..MX.z PROCESSED/20171201023244.IR.TBJM..MX.z\n",
      "PROCESSED/20171201023244.IR.LAR1..MX.e PROCESSED/20171201023244.IR.ZHSF..MX.e\n",
      "PROCESSED/20171201023244.IR.LAR1..MX.n PROCESSED/20171201023244.IR.ZHSF..MX.n\n",
      "PROCESSED/20171201023244.IR.LAR1..MX.z PROCESSED/20171201023244.IR.ZHSF..MX.z\n"
     ]
    }
   ],
   "source": [
    "!ls PROCESSED/* "
   ]
  },
  {
   "cell_type": "markdown",
   "id": "10e0a025-e062-43ac-b4af-7f016a4d0f3e",
   "metadata": {},
   "source": [
    "### 3. Rotating the radial and transverse\n",
    "\n",
    "SPECFEM3D_GLOBE can rotate the synthetic seismograms to the radial and transverse. However, in case that such feature has not been enable in the Par_file, it can be done in the next step. The method rotate reads the seismograms in PROCESSED and rotate them into the radial and transverse components. This method requires the event id (ev_id) and the path to the processed data directory. "
   ]
  },
  {
   "cell_type": "code",
   "execution_count": 9,
   "id": "3ce2ad97-e3c2-4b50-9d34-ae16b4d05e8a",
   "metadata": {},
   "outputs": [
    {
     "name": "stdout",
     "output_type": "stream",
     "text": [
      "\tRotating the radial and transverse\n",
      "\n",
      "Rotating for PROCESSED,NHDN\n",
      "\twriting PROCESSED/20171201023244.IR.NHDN..MX.r\n",
      "\twriting PROCESSED/20171201023244.IR.NHDN..MX.t\n",
      "Rotating for PROCESSED,KLNJ\n",
      "\twriting PROCESSED/20171201023244.IR.KLNJ..MX.r\n",
      "\twriting PROCESSED/20171201023244.IR.KLNJ..MX.t\n",
      "Rotating for PROCESSED,CHBR\n",
      "\twriting PROCESSED/20171201023244.IR.CHBR..MX.r\n",
      "\twriting PROCESSED/20171201023244.IR.CHBR..MX.t\n",
      "Rotating for PROCESSED,ZHSF\n",
      "\twriting PROCESSED/20171201023244.IR.ZHSF..MX.r\n",
      "\twriting PROCESSED/20171201023244.IR.ZHSF..MX.t\n",
      "Rotating for PROCESSED,KHNJ\n",
      "\twriting PROCESSED/20171201023244.IR.KHNJ..MX.r\n",
      "\twriting PROCESSED/20171201023244.IR.KHNJ..MX.t\n",
      "Rotating for PROCESSED,LAR1\n",
      "\twriting PROCESSED/20171201023244.IR.LAR1..MX.r\n",
      "\twriting PROCESSED/20171201023244.IR.LAR1..MX.t\n",
      "Rotating for PROCESSED,SHI\n",
      "\twriting PROCESSED/20171201023244.IR.SHI..MX.r\n",
      "\twriting PROCESSED/20171201023244.IR.SHI..MX.t\n",
      "Rotating for PROCESSED,ANAR\n",
      "\twriting PROCESSED/20171201023244.IR.ANAR..MX.r\n",
      "\twriting PROCESSED/20171201023244.IR.ANAR..MX.t\n",
      "Rotating for PROCESSED,SBZV\n",
      "\twriting PROCESSED/20171201023244.IR.SBZV..MX.r\n",
      "\twriting PROCESSED/20171201023244.IR.SBZV..MX.t\n",
      "Rotating for PROCESSED,TBJM\n",
      "\twriting PROCESSED/20171201023244.IR.TBJM..MX.r\n",
      "\twriting PROCESSED/20171201023244.IR.TBJM..MX.t\n"
     ]
    }
   ],
   "source": [
    "process_path = 'PROCESSED'\n",
    "specfem3D_Globe_2_mtuq_observed_data.rotate(process_path,ev_id)"
   ]
  },
  {
   "cell_type": "markdown",
   "id": "9b682729-7979-4bb9-ab2d-68b76da554a3",
   "metadata": {},
   "source": [
    "After this step, you will see in the PROCESSED directory SAC files corresponding to the radial and transverse seismograms."
   ]
  },
  {
   "cell_type": "code",
   "execution_count": 10,
   "id": "348c8532-1819-489b-8027-0eee538baff6",
   "metadata": {},
   "outputs": [
    {
     "name": "stdout",
     "output_type": "stream",
     "text": [
      "PROCESSED/20171201023244.IR.ANAR..MX.r PROCESSED/20171201023244.IR.NHDN..MX.r\n",
      "PROCESSED/20171201023244.IR.CHBR..MX.r PROCESSED/20171201023244.IR.SBZV..MX.r\n",
      "PROCESSED/20171201023244.IR.KHNJ..MX.r PROCESSED/20171201023244.IR.SHI..MX.r\n",
      "PROCESSED/20171201023244.IR.KLNJ..MX.r PROCESSED/20171201023244.IR.TBJM..MX.r\n",
      "PROCESSED/20171201023244.IR.LAR1..MX.r PROCESSED/20171201023244.IR.ZHSF..MX.r\n",
      "PROCESSED/20171201023244.IR.ANAR..MX.t PROCESSED/20171201023244.IR.NHDN..MX.t\n",
      "PROCESSED/20171201023244.IR.CHBR..MX.t PROCESSED/20171201023244.IR.SBZV..MX.t\n",
      "PROCESSED/20171201023244.IR.KHNJ..MX.t PROCESSED/20171201023244.IR.SHI..MX.t\n",
      "PROCESSED/20171201023244.IR.KLNJ..MX.t PROCESSED/20171201023244.IR.TBJM..MX.t\n",
      "PROCESSED/20171201023244.IR.LAR1..MX.t PROCESSED/20171201023244.IR.ZHSF..MX.t\n"
     ]
    }
   ],
   "source": [
    "! ls PROCESSED/*.r\n",
    "! ls PROCESSED/*.t"
   ]
  },
  {
   "cell_type": "markdown",
   "id": "a8abf71e-ce8a-4cbb-a152-55eb1da4b8e0",
   "metadata": {},
   "source": [
    "### 4. Adding zeroes to the trace onset\n",
    "The synthetics onset is the origin time, However, in some cases, for the receivers closest to the sources, it is convenient to add some zeroes at the beginning of the trace because the proximity of the P-wave arrival. Also, this procedure may be useful when the synthetic tests involve time-shifts. This method requires the path to the processed data, the event id and the time (not samples) to be added to the traces in seconds. For this example, 60s will be addted at the beginning of each trace."
   ]
  },
  {
   "cell_type": "code",
   "execution_count": 11,
   "id": "511bd445-a2e8-4557-948e-0670869dbc8d",
   "metadata": {},
   "outputs": [
    {
     "name": "stdout",
     "output_type": "stream",
     "text": [
      "\tAdding 120s of zeros to PROCESSED seismograms\n",
      "\n"
     ]
    }
   ],
   "source": [
    "extra_time = 120\n",
    "specfem3D_Globe_2_mtuq_observed_data.padd_zeros(process_path,ev_id,extra_time)"
   ]
  },
  {
   "cell_type": "markdown",
   "id": "0a5a9590-a81e-4604-a625-098d58445df9",
   "metadata": {},
   "source": [
    "### 7. Scale factor\n",
    "This method multiply the waveforms amplitude by a constant defined by the user. Our synthetic test expect waveforms in displacement in cm, since Specfem3D output is in m, in our example we multiply the amplitudes by 100. You need to provide the constant (scale) and the path to the PROCESSED directory"
   ]
  },
  {
   "cell_type": "code",
   "execution_count": 12,
   "id": "95d80683-7f40-45fa-8e6b-419c2e4532ac",
   "metadata": {},
   "outputs": [
    {
     "name": "stdout",
     "output_type": "stream",
     "text": [
      "\tMultiplying by 100, amplitude of PROCESSED seismograms\n",
      "\n",
      "50\n"
     ]
    }
   ],
   "source": [
    "scale = 100\n",
    "specfem3D_Globe_2_mtuq_observed_data.scale_amplitude(process_path,scale,ev_id)"
   ]
  },
  {
   "cell_type": "markdown",
   "id": "ef62f171",
   "metadata": {},
   "source": [
    "### 9. Change the sampling rate\n",
    "\n",
    "The synthetics that will serve as observed data may have uncommon sampling rates depending of what Specfem3D Globe defined for having a numerically stable simulation. Such sampling rates may have several significant digits unlike the observed data. Therefore, when using the synthetic-observed data in MTUQ, it is likely to find errors at the moment of pre-processing the data before the moment tensor estimation. Those errors come from trimming the seismograms before the grid-search. Since the length of the array after the trimming is determined by the number of samples calculated with the sampling rate, there could be inconsistencies in the number of samples after the trim for different traces. The discrepancies are in the order of one sample, which is negliglible in terms of the time of the seismogram, but incompatible when forming the arrays that are used as the input data for the grid-search. \n",
    "\n",
    "For example, for this simulation, the sampling rate and the delta are 7.142857074737549 and 0.14000000133514406. Therefore, it is neccesary to resample the seismograms to avoid future errors during the MTUQ execution. In this step, the new sampling rate and delta will be 5.0 and 0.2. \n",
    "\n",
    "When working with your own synthetics, you can run the next cell and modify the input parameters according to your own needs."
   ]
  },
  {
   "cell_type": "code",
   "execution_count": 13,
   "id": "58431874",
   "metadata": {},
   "outputs": [
    {
     "name": "stdout",
     "output_type": "stream",
     "text": [
      "\tResampling the delta to be 0.5\n",
      "\n",
      "50\n"
     ]
    }
   ],
   "source": [
    "new_delta=0.5\n",
    "specfem3D_Globe_2_mtuq_observed_data.change_sampling_rate(process_path,ev_id,new_delta)"
   ]
  },
  {
   "cell_type": "markdown",
   "id": "e0b48f42-45b2-4223-b9b2-8bf117064cdc",
   "metadata": {},
   "source": [
    "### 8. Writing weights.dat file\n",
    "\n",
    "Now the SAC files are ready to be used as observed data in MTUQ. For running a synthetic test, the last step is to write the weights.dat input file for running MTUQ. You need to provide the combination of components and the type of waves to include in MTUQ and the path for the PROCESSED data. \n",
    "\n",
    "If components = '1 1 1 1 1'. All components and phases will be used. This is: body waves (vertical and radial) and surface waves (vertical, radial, and transverse). \n",
    "\n",
    "For this example, the synthetic run will include only surface waves."
   ]
  },
  {
   "cell_type": "code",
   "execution_count": 14,
   "id": "42f0122e-841a-4615-bf26-6007f561a709",
   "metadata": {},
   "outputs": [
    {
     "name": "stdout",
     "output_type": "stream",
     "text": [
      "\tWriting weights.dat files for events in PROCESSED \n"
     ]
    }
   ],
   "source": [
    "components = '0 0 1 1 1'\n",
    "specfem3D_Globe_2_mtuq_observed_data.write_weight_all(process_path,components)"
   ]
  },
  {
   "cell_type": "code",
   "execution_count": 15,
   "id": "7b27392e-a590-4286-81ce-46cffd3ad618",
   "metadata": {},
   "outputs": [
    {
     "name": "stdout",
     "output_type": "stream",
     "text": [
      " 20171201023244.IR.NHDN..MX. 264.0 0 0 1 1 1   0.0   0.0      0      0      0\n",
      " 20171201023244.IR.KLNJ..MX. 555.0 0 0 1 1 1   0.0   0.0      0      0      0\n",
      " 20171201023244.IR.ZHSF..MX. 349.0 0 0 1 1 1   0.0   0.0      0      0      0\n",
      " 20171201023244.IR.CHBR..MX. 645.0 0 0 1 1 1   0.0   0.0      0      0      0\n",
      " 20171201023244.IR.KHNJ..MX. 310.0 0 0 1 1 1   0.0   0.0      0      0      0\n",
      " 20171201023244.IR.LAR1..MX. 449.0 0 0 1 1 1   0.0   0.0      0      0      0\n",
      " 20171201023244.IR.SHI..MX. 484.0 0 0 1 1 1   0.0   0.0      0      0      0\n",
      " 20171201023244.IR.ANAR..MX. 440.0 0 0 1 1 1   0.0   0.0      0      0      0\n",
      " 20171201023244.IR.SBZV..MX. 627.0 0 0 1 1 1   0.0   0.0      0      0      0\n",
      " 20171201023244.IR.TBJM..MX. 573.0 0 0 1 1 1   0.0   0.0      0      0      0"
     ]
    }
   ],
   "source": [
    "!cat PROCESSED/weights.dat"
   ]
  },
  {
   "cell_type": "markdown",
   "id": "62384e74-d553-481d-8494-aea3faf66b44",
   "metadata": {},
   "source": [
    "Now the synthetic-observed data is ready to be used in MTUQ. If you already processed the Green Functions, you can go to the directory  MTUQ_TEST and follow the instructions for launching a moment tensor estimation in MTUQ. If not, then process the Green Functions for this event in MAKE_GFs. "
   ]
  },
  {
   "cell_type": "code",
   "execution_count": null,
   "id": "1d12152c-f3f2-4940-90da-b14be3a86e55",
   "metadata": {},
   "outputs": [],
   "source": []
  }
 ],
 "metadata": {
  "kernelspec": {
   "display_name": "Python 3 (ipykernel)",
   "language": "python",
   "name": "python3"
  },
  "language_info": {
   "codemirror_mode": {
    "name": "ipython",
    "version": 3
   },
   "file_extension": ".py",
   "mimetype": "text/x-python",
   "name": "python",
   "nbconvert_exporter": "python",
   "pygments_lexer": "ipython3",
   "version": "3.8.13"
  }
 },
 "nbformat": 4,
 "nbformat_minor": 5
}
