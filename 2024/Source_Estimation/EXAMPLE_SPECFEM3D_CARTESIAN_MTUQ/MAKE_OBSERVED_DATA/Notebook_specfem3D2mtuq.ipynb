{
 "cells": [
  {
   "cell_type": "markdown",
   "id": "a0fdd40b-0eaa-4d5c-8db8-667549953bd8",
   "metadata": {},
   "source": [
    "# Preprocessing SPECFEM3D (Cartesian) for making MTUQ \"observed\" data\n",
    "### Félix Rodríguez-Cardozo and Jochen Braunmiller\n",
    "\n",
    "The following Notebook provides instructions for running the script specfem3D2mtuq.py. This script reads plain text synthetic seismograms created by Specfem3D Cartesian and convert them into SAC files with the format required by MTUQ for input observed data. The aim of such synthetic \"observed\" data is to run synthetic MTUQ moment tensor estimations. specfem3D2mtuq.py runs in the same environment used for mtuq (conda activate mtuq).  However, you will need to install the **[pyproj](https://anaconda.org/conda-forge/pyproj)** library in the MTUQ environment. "
   ]
  },
  {
   "cell_type": "markdown",
   "id": "f0540330-f006-46a1-b03c-204e7bc3c6f8",
   "metadata": {},
   "source": [
    "### 0. Explore the directories\n"
   ]
  },
  {
   "cell_type": "code",
   "execution_count": null,
   "id": "29b5e4c8-00f8-43d8-931b-e13c98ac42da",
   "metadata": {},
   "outputs": [],
   "source": [
    "! ls"
   ]
  },
  {
   "cell_type": "markdown",
   "id": "ff7978a9-e5c4-4404-9189-7cea2d956f6e",
   "metadata": {},
   "source": [
    " - **2017120102324**: directory with the Specfem3D simulation outcome. Inside that directory, must be placed the DATA and OUTPUT_FILES directories. \n",
    " - **specfem3D2mtuq.py**: script for converting the Specfem3D synthetics into MTUQ observed data. \n",
    " - **MTUQ_TEST**: directory with an example for estimating the seismic moment tensor in MTUQ using the synthetic \"observed\" data to be pre-processed in this notebook. We will look in detail that directory later. "
   ]
  },
  {
   "cell_type": "code",
   "execution_count": null,
   "id": "a0aeb797-08b4-4b7e-9dc8-5c09b6e7cbe9",
   "metadata": {},
   "outputs": [],
   "source": [
    "! ls 20171201023244"
   ]
  },
  {
   "cell_type": "code",
   "execution_count": null,
   "id": "eb8dc742-54b9-4500-8cea-f20ab853714a",
   "metadata": {},
   "outputs": [],
   "source": [
    "#Load the script as a Python library\n",
    "import specfem3D2mtuq\n",
    "import importlib\n",
    "import os\n",
    "importlib.reload(specfem3D2mtuq)"
   ]
  },
  {
   "cell_type": "markdown",
   "id": "b5d372e8-24f5-46b7-a0e8-7778d1d1e032",
   "metadata": {},
   "source": [
    "If you are going to run again this notebook, the next line will remove the PROCESSED directory which is the final result of this manual. If this is your first time here, you can skip the next instruction."
   ]
  },
  {
   "cell_type": "code",
   "execution_count": null,
   "id": "afcffd46-34de-4c9c-938d-e1bbcd1754ac",
   "metadata": {},
   "outputs": [],
   "source": [
    "#Clean space work\n",
    "specfem3D2mtuq.clean()"
   ]
  },
  {
   "cell_type": "markdown",
   "id": "05eb9d30-54d4-414c-9257-75358ccdcab5",
   "metadata": {},
   "source": [
    "### 1. Gathering information about Specfem3D simulation\n",
    "In this stept the Specfem3D CMTSOLUTION and Par_file files are read to figure out the simulation origin time, hypocenter and whether were used UTM or lat,lon coordinates. In case of using UTM coordinates, the UTM zone used is found as well. You need to provide the path for finding the Specfem3D OUTPUT_FILES directory. For this example, the path is '20171201023244'."
   ]
  },
  {
   "cell_type": "code",
   "execution_count": null,
   "id": "d05c83b9-ba75-42b0-b42e-40d0e3298b83",
   "metadata": {},
   "outputs": [],
   "source": [
    "main_dir = os.getcwd() \n",
    "path = '20171201023244'\n",
    "evla,evlo,evdp,time,ev_id,utm_on,utm_zone = specfem3D2mtuq.get_event_info(path)"
   ]
  },
  {
   "cell_type": "markdown",
   "id": "ff02bb1d-9416-4e6b-8cc9-e81543ab9c40",
   "metadata": {},
   "source": [
    "### 2. Convert Specfem3D synthetics into MTUQ sac files\n",
    "In this script each *sem* file in the OUTPUT_FILES directory is read (e.g., IR.MRVT.HXZ.semv) and SAC files in the MTUQ observed data format will be created (e.g., 20171201023244.IR.MRVT..HH.z). You need to provide the path for Specfem3D OUTPUT_FILES directory, the event id and the origin time. The event id is built based on the event origin time: yyyymmddhhmmss, where y is year, m month, d day, h hour, m minute and s second. The origin time must follow the format yyyy-mm-ddThh:mm:ss. The event id and origin time for this example is 20171201023244 and 2017-12-01T02:32:44.0. You can either provide both directly or use the previous step where the method get_event_info returns those values. "
   ]
  },
  {
   "cell_type": "code",
   "execution_count": null,
   "id": "07f5b49b-7ab2-49fb-9a9e-8aa8f14fc7fe",
   "metadata": {},
   "outputs": [],
   "source": [
    "print('Event ID {}'.format(ev_id))\n",
    "print('Event origin time {}'.format(time))\n",
    "specfem3D2mtuq.txt2sac(path,ev_id,time)"
   ]
  },
  {
   "cell_type": "markdown",
   "id": "b677ca8e-0f15-4c82-84ca-10ee032fed3c",
   "metadata": {},
   "source": [
    "**You can see the new created SAC files in MTUQ format, in the directory PROCESSED:**"
   ]
  },
  {
   "cell_type": "code",
   "execution_count": null,
   "id": "f070e6d6-798d-4e8d-bf63-646b876c2845",
   "metadata": {},
   "outputs": [],
   "source": [
    "!ls PROCESSED/* "
   ]
  },
  {
   "cell_type": "markdown",
   "id": "2ed3a5dd-0e68-4ef6-ba72-777c2b442f33",
   "metadata": {},
   "source": [
    "### 3. Gathering information STATIONS file\n",
    "The new SAC files require some information in their header such as the coordinates of the simulation receivers. Before attempting that step it is necessary to read the STATIONS file used for running the Specfem3D simulation. For collecting the receiver coordinates you need to provide the path, a flag for declaring whether the coordinates in the STATION file are given in UTM format or not, and in case of using UTM coordinates, what is the UTM region. With the aforementioned information, the script converts the coordinates from UTM into latitude and longitude. \n",
    "\n",
    "Similarly as step 2, the UTM flag (utm_on) and region (utm_zone) are returned by get_event_info method (stept 1). For this example, the flag is set as True since the simulation was performed in UTM coordinates in the region 38. "
   ]
  },
  {
   "cell_type": "code",
   "execution_count": null,
   "id": "4e0a6838-0c9b-4a26-b034-887c6698a040",
   "metadata": {},
   "outputs": [],
   "source": [
    "! cat 20171201023244/DATA/STATIONS"
   ]
  },
  {
   "cell_type": "code",
   "execution_count": null,
   "id": "614956a3-9e8f-49b0-8bac-43eef6ce4517",
   "metadata": {},
   "outputs": [],
   "source": [
    "print(utm_on)\n",
    "print(utm_zone)"
   ]
  },
  {
   "cell_type": "code",
   "execution_count": null,
   "id": "395ef3ee-6b39-4c84-92cd-56079c48fdd8",
   "metadata": {},
   "outputs": [],
   "source": [
    "stations = specfem3D2mtuq.grab_stations(path,utm_on,utm_zone)"
   ]
  },
  {
   "cell_type": "markdown",
   "id": "1dbd4724-6de6-4318-9445-71a3ed6a8856",
   "metadata": {},
   "source": [
    "**stations** in a list filled with objects of the class **Station** created in specfem3D2mtuq.py. The attributes of each element of the list are: station name (name), station latitude and longitude (lat,lon) and station network (network). In the next cell we will print the attributes for the first element (e.g., station) of the list:"
   ]
  },
  {
   "cell_type": "code",
   "execution_count": null,
   "id": "fe3cbc81-20e2-444d-b5ba-a2a03aaff5ab",
   "metadata": {},
   "outputs": [],
   "source": [
    "print(stations[0].name)\n",
    "print(stations[0].lat)\n",
    "print(stations[0].lon)\n",
    "print(stations[0].network)"
   ]
  },
  {
   "cell_type": "markdown",
   "id": "a5c9f3f6-8508-4e24-b1d7-90d175611761",
   "metadata": {},
   "source": [
    "Observe that the coordinates that were given for the station RST1 in UTM format taking as reference the 38 zone (4130709.407463263 910822.7389732231), now are in lat,long format (37.232399, 49.630001). "
   ]
  },
  {
   "cell_type": "markdown",
   "id": "af5a2f30-63de-4043-a8c0-44b18bb03e09",
   "metadata": {},
   "source": [
    "### 4. Completing the SAC header\n",
    "This step adds the missing header values to the SAC files in the PROCESSED directory. This method is tied with the grab_stations one since one of the input parameters is the stations object created in the previous step. In addition, you need to provide the path for the PROCESSED directory, the event id (ev_id), and the event hypocenter (evla,evlo,evdp). For this example ev_id,evla,evlo, and evdp were determined after using the method get_event_info (stept 1)."
   ]
  },
  {
   "cell_type": "code",
   "execution_count": null,
   "id": "e9757d6e-77ef-4d11-abb5-62f4883d3a8e",
   "metadata": {},
   "outputs": [],
   "source": [
    "print(ev_id)\n",
    "print(evla)\n",
    "print(evlo)\n",
    "print(evdp)"
   ]
  },
  {
   "cell_type": "code",
   "execution_count": null,
   "id": "c9e08e3c-4e41-429d-b591-4c08c0a97cc3",
   "metadata": {},
   "outputs": [],
   "source": [
    "process_path = 'PROCESSED'\n",
    "specfem3D2mtuq.complete_header(process_path,stations,ev_id,evla,evlo,evdp)"
   ]
  },
  {
   "cell_type": "markdown",
   "id": "10e0a025-e062-43ac-b4af-7f016a4d0f3e",
   "metadata": {},
   "source": [
    "### 5. Rotating the radial and transverse\n",
    "\n",
    "With the SAC headers complete, the next step is to read the seismograms in PROCESSED and rotate them into the radial and transverse components. This method requires the event id (ev_id) and the path to the processed data directory. "
   ]
  },
  {
   "cell_type": "code",
   "execution_count": null,
   "id": "3ce2ad97-e3c2-4b50-9d34-ae16b4d05e8a",
   "metadata": {},
   "outputs": [],
   "source": [
    "specfem3D2mtuq.rotate(process_path,ev_id)"
   ]
  },
  {
   "cell_type": "markdown",
   "id": "9b682729-7979-4bb9-ab2d-68b76da554a3",
   "metadata": {},
   "source": [
    "After this step, you will see in the PROCESSED directory SAC files corresponding to the radial and transverse seismograms."
   ]
  },
  {
   "cell_type": "code",
   "execution_count": null,
   "id": "348c8532-1819-489b-8027-0eee538baff6",
   "metadata": {},
   "outputs": [],
   "source": [
    "! ls PROCESSED/*.r\n",
    "! ls PROCESSED/*.t"
   ]
  },
  {
   "cell_type": "markdown",
   "id": "a8abf71e-ce8a-4cbb-a152-55eb1da4b8e0",
   "metadata": {},
   "source": [
    "### 6. Adding zeroes to the trace onset\n",
    "The synthetics onset is the origin time, However, in some cases, for the receivers closest to the sources, it is convenient to add some zeroes at the beginning of the trace because the proximity of the P-wave arrival. Also, this procedure may be useful when the synthetic tests involve time-shifts. This method requires the path to the processed data, the event id and the time (not samples) to be added to the traces in seconds. For this example, 60s will be addted at the beginning of each trace."
   ]
  },
  {
   "cell_type": "code",
   "execution_count": null,
   "id": "511bd445-a2e8-4557-948e-0670869dbc8d",
   "metadata": {},
   "outputs": [],
   "source": [
    "extra_time = 60\n",
    "specfem3D2mtuq.padd_zeros(process_path,ev_id,extra_time)"
   ]
  },
  {
   "cell_type": "markdown",
   "id": "0a5a9590-a81e-4604-a625-098d58445df9",
   "metadata": {},
   "source": [
    "### 7. Scale factor\n",
    "This method multiply the waveforms amplitude by a constant defined by the user. Our synthetic test expect waveforms in displacement in cm, since Specfem3D output is in m, in our example we multiply the amplitudes by 100. You need to provide the constant (scale) and the path to the PROCESSED directory"
   ]
  },
  {
   "cell_type": "code",
   "execution_count": null,
   "id": "95d80683-7f40-45fa-8e6b-419c2e4532ac",
   "metadata": {},
   "outputs": [],
   "source": [
    "scale = 100\n",
    "specfem3D2mtuq.scale_amplitude(process_path,scale,ev_id)"
   ]
  },
  {
   "cell_type": "markdown",
   "id": "e0b48f42-45b2-4223-b9b2-8bf117064cdc",
   "metadata": {},
   "source": [
    "### 8. Writing weights.dat file\n",
    "\n",
    "Now the SAC files are ready to be used as observed data in MTUQ. For running a synthetic test, the last step is to write the weights.dat input file for running MTUQ. You need to provide the combination of components and the type of waves to include in MTUQ and the path for the PROCESSED data. \n",
    "\n",
    "If components = '1 1 1 1 1'. All components and phases will be used. This is: body waves (vertical and radial) and surface waves (vertical, radial, and transverse). \n",
    "\n",
    "For this example, the synthetic run will include only surface waves."
   ]
  },
  {
   "cell_type": "code",
   "execution_count": null,
   "id": "42f0122e-841a-4615-bf26-6007f561a709",
   "metadata": {},
   "outputs": [],
   "source": [
    "components = '0 0 1 1 1'\n",
    "specfem3D2mtuq.write_weight_all(process_path,components)"
   ]
  },
  {
   "cell_type": "code",
   "execution_count": null,
   "id": "7b27392e-a590-4286-81ce-46cffd3ad618",
   "metadata": {},
   "outputs": [],
   "source": [
    "!cat PROCESSED/weights.dat"
   ]
  },
  {
   "cell_type": "markdown",
   "id": "bd29f176-66ea-49be-99c2-36b5cbcdc8ff",
   "metadata": {},
   "source": [
    "### 9. Run MTUQ using Specfem3D Green Functions and the recently created \"observed\" data \n",
    "The last step is to run a synthetic moment tensor estimation using the recently processed observed data. In the directory MTUQ_TEST are already provided the source-side Green Functions for the processed data"
   ]
  },
  {
   "cell_type": "markdown",
   "id": "108cdd28-bbf5-44e5-a2c0-717ea3e156a0",
   "metadata": {},
   "source": [
    "**9.1. Copy PROCESSED data into MTUQ_EXAMPLE**\n",
    "\n",
    "Before going to the MTUQ_TEST directory, you need to copy the PROCESSED directory in the MTUQ_EXAMPLE directory. However, for running the MTUQ example, the directory with the \"observed\" data has to be named after the event id:"
   ]
  },
  {
   "cell_type": "code",
   "execution_count": null,
   "id": "e84b1878-830c-4e6d-8053-ba782b3eea01",
   "metadata": {},
   "outputs": [],
   "source": [
    "os.system('cp -r PROCESSED MTUQ_TEST/20171201023244')"
   ]
  },
  {
   "cell_type": "markdown",
   "id": "d4925602-82a6-4955-a293-87881aa295a9",
   "metadata": {},
   "source": [
    "**9.2.Exploring the MTUQ_EXAMPLE directory**"
   ]
  },
  {
   "cell_type": "code",
   "execution_count": null,
   "id": "edcdc8c9-1921-4c09-9bb7-34010f8b2700",
   "metadata": {},
   "outputs": [],
   "source": [
    "! ls MTUQ_TEST/"
   ]
  },
  {
   "cell_type": "markdown",
   "id": "6d7133ef-3c30-4bac-97a7-d223af277c90",
   "metadata": {},
   "source": [
    "- **20171201023244**: Directory with the synthetic \"observed\" waveforms. \n",
    "- **EXPECTED_SOLUTIONS**: Directory with the MTUQ solutions you should obtain after running this example. \n",
    "- **GFs**: Source-side Green Functions calculated for the example event using Specfem3D Cartesian. Further information about how to calculate GFs using Specfem3D can be see it in the [cartesian_MT](https://github.com/uafgeotools/mtuq_supp/tree/main/greens_functions_libraries/specfem/cartesian_MT) directory of the [mtuq_supp](https://github.com/uafgeotools/mtuq_supp/tree/main) repository. \n",
    "-**SPECFEM3D_GFs_GridSearch.DoubleCouple_SW_options.py,SPECFEM3D_GFs_GridSearch.FMT_SW_options.py**: Scripts for running MTUQ using the Specfem3D synthetic \"osberved\" data Green Functions (GFs). One script os for estimating the moment tensor restricted to be double-couple and the other is the full moment tensor. In both examples, only surface waves are used. "
   ]
  },
  {
   "cell_type": "markdown",
   "id": "95a4b33d-5057-45a6-af11-a19ab18a7808",
   "metadata": {},
   "source": [
    "**9.3 SPECFEM3D_GFs_GridSearch.DoubleCouple_SW_options.py input parameters required:** \n",
    "\n",
    "Now, move the MTUQ_TEST directory and before launching any moment tensor estimation, check the help provided with the SPECFEM3D_GFs_GridSearch.DoubleCouple_SW_options.py script to realize the input parameters required. "
   ]
  },
  {
   "cell_type": "code",
   "execution_count": null,
   "id": "f071be11-64b0-4df9-ac3e-6afaa0651ac1",
   "metadata": {},
   "outputs": [],
   "source": [
    "%cd MTUQ_TEST"
   ]
  },
  {
   "cell_type": "code",
   "execution_count": null,
   "id": "320a3a79-d722-4243-a2c8-8747552075d7",
   "metadata": {},
   "outputs": [],
   "source": [
    "%run -i 'SPECFEM3D_GFs_GridSearch.DoubleCouple_SW_options.py' -h "
   ]
  },
  {
   "cell_type": "markdown",
   "id": "8daca392-0b6c-4640-96c2-b352bd978232",
   "metadata": {},
   "source": [
    "The next cell is already set-up for running SPECFEM3D_GFs_GridSearch.DoubleCouple_SW_options.py with the appropiate parameters for the synthetic example. "
   ]
  },
  {
   "cell_type": "code",
   "execution_count": null,
   "id": "65e9e4ff-21b8-4de2-b6a9-d577cf07751e",
   "metadata": {},
   "outputs": [],
   "source": [
    "#Launch MTUQ for a double-couple grid-search using the synthetic \"observed\" data.\n",
    "%run -i 'SPECFEM3D_GFs_GridSearch.DoubleCouple_SW_options.py' -event 20171201023244 -evla 30.734 -evlo 57.390 -evdp 6000 -mw 4.6 -time 2017-12-01T02:32:44.00000Z -np 51 -fb 15-33"
   ]
  },
  {
   "cell_type": "markdown",
   "id": "cf1ff7d3-7d62-400e-861b-845b54038e85",
   "metadata": {},
   "source": [
    "**By running the next cell, you will see the MTUQ grid-search outcome**"
   ]
  },
  {
   "cell_type": "code",
   "execution_count": null,
   "id": "0d157b84-204c-4bb6-a4d8-d7018566ecde",
   "metadata": {},
   "outputs": [],
   "source": [
    "from IPython.display import Image\n",
    "Image(\"20171201023244DC_waveforms.png\")"
   ]
  },
  {
   "cell_type": "markdown",
   "id": "015b5024-0ddc-483b-a69c-e4ba696738a4",
   "metadata": {},
   "source": [
    "## You can compare your results with the one already saved in EXPECTED_SOLUTIONS. END"
   ]
  },
  {
   "cell_type": "markdown",
   "id": "44d7b320-94f5-4b94-b546-f871ed7cb8fb",
   "metadata": {},
   "source": [
    "**P.S. 1:** If you want to start over this notebook, run the next cell for moving to the main directory. "
   ]
  },
  {
   "cell_type": "code",
   "execution_count": null,
   "id": "ee416196-a15b-4e6c-aad3-80dbb5d596fa",
   "metadata": {},
   "outputs": [],
   "source": [
    "os.chdir(main_dir)"
   ]
  },
  {
   "cell_type": "markdown",
   "id": "62384e74-d553-481d-8494-aea3faf66b44",
   "metadata": {},
   "source": [
    "**P.S. 1:** If you want to go to the MTUQ_TEST, just for running again the moment tensor estimation, run the next cell. "
   ]
  },
  {
   "cell_type": "code",
   "execution_count": null,
   "id": "132db444-5979-47af-98ad-0066ed8427c6",
   "metadata": {},
   "outputs": [],
   "source": [
    "os.chdir('{}/MTUQ_TEST'.format(main_dir))"
   ]
  }
 ],
 "metadata": {
  "kernelspec": {
   "display_name": "Python 3 (ipykernel)",
   "language": "python",
   "name": "python3"
  },
  "language_info": {
   "codemirror_mode": {
    "name": "ipython",
    "version": 3
   },
   "file_extension": ".py",
   "mimetype": "text/x-python",
   "name": "python",
   "nbconvert_exporter": "python",
   "pygments_lexer": "ipython3",
   "version": "3.8.13"
  }
 },
 "nbformat": 4,
 "nbformat_minor": 5
}
