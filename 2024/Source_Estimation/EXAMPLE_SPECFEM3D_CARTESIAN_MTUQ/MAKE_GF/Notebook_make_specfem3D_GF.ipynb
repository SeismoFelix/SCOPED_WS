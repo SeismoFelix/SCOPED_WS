{
 "cells": [
  {
   "cell_type": "markdown",
   "id": "d194d895",
   "metadata": {},
   "source": [
    "# Pre-processing Green's Functions calculated with SPECFEM3D for source-side MTUQ moment tensor estimations\n",
    "### Felix Rodriguez-Cardozo and Jochen Braunmiller\n",
    "\n",
    "#### We appreciate the colaboration of Liang Ding, University of Toronto, for double-checking these results and correct some bugs related to the scale factor for converting the GFs into the appropiate units required by MTUQ. \n",
    "\n",
    "-------------------------\n",
    " \n",
    "[MTUQ has the capability of reading Green's Functions](https://uafgeotools.github.io/mtuq/user_guide/03.html) calculated in Specfem3D to incorporate 3D velocity models for moment tensor estimation.\n",
    " \n",
    "This example aims to guide the pre-processing of the output plain-text files (synthetic seismograms) created by Specfem3D after a simulation. Then, convert them into SAC files with the appropriate name for being read by MTUQ as a Green's Functions database for a specific earthquake.\n",
    " \n",
    "**Before starting save the information about the main directory location running the following cell**:"
   ]
  },
  {
   "cell_type": "code",
   "execution_count": null,
   "id": "e79355e2",
   "metadata": {},
   "outputs": [],
   "source": [
    "import os\n",
    "main_dir = os.getcwd()\n",
    "print(main_dir)"
   ]
  },
  {
   "cell_type": "markdown",
   "id": "26a489c8",
   "metadata": {},
   "source": [
    "In the same directory where you found this jupyter script, you will find the following directories:"
   ]
  },
  {
   "cell_type": "code",
   "execution_count": null,
   "id": "8ba8ac5c",
   "metadata": {},
   "outputs": [],
   "source": [
    "# Run this cell for seeing the basics directories for pre-processing the Specfem3D synthetics\n",
    "%ls -d *"
   ]
  },
  {
   "cell_type": "markdown",
   "id": "a878d78e",
   "metadata": {},
   "source": [
    "- **DATABASES_REPO**: contains the files for creating the mesh and the databases needed before running a synthetic seismograms simulation. \n",
    "- **SOLVER_REPO**: contains the files for running the synthetic seismograms simulations.\n",
    "- **MTUQ_TEST**: contains the scripts for running a MTUQ moment tensor estimation example and testing that the pre-processed Green Functions work.\n",
    "- **README.txt**: contains relevant information to read before working with this notebook.\n",
    "- **make_specfem3D_GF.py**: python script for pre-processing Green's Functions. We will use it in the section 3 of this notebook. \n"
   ]
  },
  {
   "cell_type": "markdown",
   "id": "ecc6c0ee",
   "metadata": {},
   "source": [
    "**Pre-requisites for using the preprocessing script**\n",
    "\n",
    "This script works with the same python libraries installed in the mtuq anaconda environment. However, some parts of the script call Specfem3D binary files, and therefore, it is expected you have already installed  Specfem3D. Besides, the path to the binary files created during the Specfem3D installation has to be added to your bashrc profile. **If you have already calculated the synthetics for the elementary sources in Specfem3D, simply check that your files follow the directory structure shown here and go to the pre-processing part (section 3).** "
   ]
  },
  {
   "cell_type": "markdown",
   "id": "2f67b198",
   "metadata": {},
   "source": [
    "**Pre-processing overview**\n",
    "\n",
    "The source-side workflow for MTUQ moment tensor estimation using Specfem3D Green Functions is summarized in the following figure."
   ]
  },
  {
   "cell_type": "code",
   "execution_count": null,
   "id": "4981e2a7",
   "metadata": {},
   "outputs": [],
   "source": [
    "from IPython.display import Image"
   ]
  },
  {
   "cell_type": "code",
   "execution_count": null,
   "id": "834d3dfe",
   "metadata": {},
   "outputs": [],
   "source": [
    "Image('source_side_specfem3D_mtuq.png')"
   ]
  },
  {
   "cell_type": "markdown",
   "id": "5dec75cb",
   "metadata": {},
   "source": [
    "The following example, has been tested for running Specfem3D cartesian for a 1D velocity model, preprocessing the synthetic seismograms after Specfem3D simulations, and run an example in MTUQ.  After testing this notebook, you can use the same file structure and modify it according to your needs.\n"
   ]
  },
  {
   "cell_type": "markdown",
   "id": "fac5db06",
   "metadata": {},
   "source": [
    "## 1. Creating the mesh and database in Specfem3D\n",
    "\n",
    "The first part of the workflow consists of creating the mesh and the databases used by the Specfem3D. Internally, Specfem3D generates the mesh with the binary file **xmeshfem3D** and pours the velocity model into the mesh executing **xgenerate_databases** binary file. The directory **DATABASES_REPO** contains the files for creating the mesh and the databases for the given velocity model. Go to the directory **DATABASES_REPO/1D_VM/16_PROC** running the following cell:  "
   ]
  },
  {
   "cell_type": "code",
   "execution_count": null,
   "id": "e1578edf",
   "metadata": {},
   "outputs": [],
   "source": [
    "%cd DATABASES_REPO/1D_VM/16_PROC\n",
    "%ls *"
   ]
  },
  {
   "cell_type": "markdown",
   "id": "84118563",
   "metadata": {},
   "source": [
    "**If you work  under Slurm workload manager, then run the following cell:**"
   ]
  },
  {
   "cell_type": "code",
   "execution_count": null,
   "id": "2ce9a744",
   "metadata": {},
   "outputs": [],
   "source": [
    "! sbatch schedule_databases.sh"
   ]
  },
  {
   "cell_type": "markdown",
   "id": "ccf413a1",
   "metadata": {},
   "source": [
    "**Otherwise, run the following cell:**"
   ]
  },
  {
   "cell_type": "code",
   "execution_count": null,
   "id": "24c416e0",
   "metadata": {},
   "outputs": [],
   "source": [
    "#If you change the number of processes, then do it as well in the parameter files\n",
    "! mpirun -np 16 xmeshfem3D\n",
    "! mpirun -np 16 xgenerate_databases\n"
   ]
  },
  {
   "cell_type": "markdown",
   "id": "e98fb6e2",
   "metadata": {},
   "source": [
    "Once you have created the mesh and generated the database, you will find the databases in **OUTPUT_FILES/DATABASES_MPI**, and you are ready to run the solver and simulate the synthetic seismograms. The dummy file before generating the databases is HI_DATABASES.txt."
   ]
  },
  {
   "cell_type": "code",
   "execution_count": null,
   "id": "daf899ad",
   "metadata": {},
   "outputs": [],
   "source": [
    "%ls OUTPUT_FILES/DATABASES_MPI"
   ]
  },
  {
   "cell_type": "markdown",
   "id": "6067e307",
   "metadata": {},
   "source": [
    "You do not need to run xmeshfem3D and xgenerate_databases again for different simulations as long as you use the same velocity model, mesh structure, and number of processes. For instance, the provided example is intended for running in 16 processors (that is why the path is 1D_VM/16_PROC). Future simulations with only modifications in the CMTSOLUTION file (source) and the STATIONS file (receivers’ location) can use the same database."
   ]
  },
  {
   "cell_type": "markdown",
   "id": "1d8c0bcb",
   "metadata": {},
   "source": [
    "## 2. Running the solver"
   ]
  },
  {
   "cell_type": "code",
   "execution_count": null,
   "id": "ae3cc325",
   "metadata": {},
   "outputs": [],
   "source": [
    "#Let's back to the main directory\n",
    "os.chdir(main_dir)"
   ]
  },
  {
   "cell_type": "markdown",
   "id": "de450ded",
   "metadata": {},
   "source": [
    "**2.1 Solver repository file structure**\n",
    "\n",
    "Before launching the Specmfem3D solver, check the structure of the **SOLVER_REPO** directory: **SOLVER_REPO/event_id/depth_in_km**. The event id follows the format: **yyyymmddhhmmss**, where y stands for year, m for the month, d for day, and s for seconds. \n",
    "\n",
    "For this example you have already the structure for calculating the elementary sources for an earthquake on 2017/12/01 02:32:44 and 15 km of depth. Look at the directories running the following cell."
   ]
  },
  {
   "cell_type": "code",
   "execution_count": null,
   "id": "46d57446",
   "metadata": {},
   "outputs": [],
   "source": [
    "%ls SOLVER_REPO/20171201023244/15/"
   ]
  },
  {
   "cell_type": "markdown",
   "id": "5b5bf890",
   "metadata": {},
   "source": [
    "You will see one directory per elementary moment tensor source: Mpp,Mrp,Mrr,Mrt,Mtp,Mtt. \n",
    "Each elementary source directory contains the directory structure for running the Specfem3D solver."
   ]
  },
  {
   "cell_type": "code",
   "execution_count": null,
   "id": "3ba4c9aa",
   "metadata": {},
   "outputs": [],
   "source": [
    "#Let's see the content for the elementary source Mpp\n",
    "%ls SOLVER_REPO/20171201023244/15/Mpp"
   ]
  },
  {
   "cell_type": "markdown",
   "id": "4ecd19c5",
   "metadata": {},
   "source": [
    "The information regarding the source is in **DATA/CMTSOLUTION** file. Each elementary source **CMTSOLUTION** file  should contain the same information regarding the source hypocenter but differ in the moment tensor source content according to each elementary source. For instance the Mpp CMTSOLUTION file describe a source where all the moment tensor elements are zero except the Mpp one. See the **Mpp/DATA/CMTSOLUTION** file running the next cell."
   ]
  },
  {
   "cell_type": "code",
   "execution_count": null,
   "id": "a8676bc1",
   "metadata": {},
   "outputs": [],
   "source": [
    "! cat SOLVER_REPO/20171201023244/15/Mpp/DATA/CMTSOLUTION"
   ]
  },
  {
   "cell_type": "markdown",
   "id": "fa2ce42b",
   "metadata": {},
   "source": [
    "Now see see the **Mrp/DATA/CMTSOLUTION** and observe the difference in the source:"
   ]
  },
  {
   "cell_type": "code",
   "execution_count": null,
   "id": "40260678",
   "metadata": {},
   "outputs": [],
   "source": [
    "! cat SOLVER_REPO/20171201023244/15/Mrp/DATA/CMTSOLUTION"
   ]
  },
  {
   "cell_type": "markdown",
   "id": "d14cabe8",
   "metadata": {},
   "source": [
    "**2.2 Launching the solver**"
   ]
  },
  {
   "cell_type": "markdown",
   "id": "7a5a8565",
   "metadata": {},
   "source": [
    "The script **make_specfem3D_GF.py** are in charge of running the Specfem3D solver, pre-processing the output files, and creating the Green Functions database to be used in MTUQ. Run the following cell for seeing the options:"
   ]
  },
  {
   "cell_type": "code",
   "execution_count": null,
   "id": "6dd9ca0b",
   "metadata": {},
   "outputs": [],
   "source": [
    "%run -i 'make_specfem3D_GF.py' -h"
   ]
  },
  {
   "cell_type": "markdown",
   "id": "19242d2d",
   "metadata": {},
   "source": [
    "You have to decide, between:\n",
    "\n",
    "- Run the solver for the six elementary moment tensor sources (option s). \n",
    "- Run pre-processing for the output of six elementary moment tensor sources (option  p).  \n",
    "\n",
    "Besides, you have to provide the following information: \n",
    "\n",
    "\n",
    "- The event ID (-ev option)  in the format: yyyymmddhhmmss. y stands for year, m for the month, d for day, and s for seconds. \n",
    "- Earthquake depth in km (-ed option). \n",
    "- Path to database directory relative to the current script position.  \n",
    "\n",
    "\n"
   ]
  },
  {
   "cell_type": "markdown",
   "id": "27fe93c4",
   "metadata": {},
   "source": [
    "For launching the solver for all the elementary sources that come with the example provided, run the following cell:"
   ]
  },
  {
   "cell_type": "code",
   "execution_count": null,
   "id": "33d1761b",
   "metadata": {},
   "outputs": [],
   "source": [
    "%run -i 'make_specfem3D_GF.py' -o s -ev 20171201023244 -ed 15 -dir DATABASES_REPO/1D_VM/16_PROC/"
   ]
  },
  {
   "cell_type": "markdown",
   "id": "e560add1",
   "metadata": {},
   "source": [
    "The script  have created soft symlink links between the **DATABASES_MPI** in the databases repository (indicated in the -dir option) and the **OUTPUT_FILES** directories for each elementary source in the solver repository (according to the information given in -ev and -ed options). See the directories’ symbolic links by running the following cell. \n",
    "\n"
   ]
  },
  {
   "cell_type": "code",
   "execution_count": null,
   "id": "d65a7f43",
   "metadata": {},
   "outputs": [],
   "source": [
    "! ls -al SOLVER_REPO/20171201023244/15/M*/OUTPUT_FILES/DATABASES_MPI"
   ]
  },
  {
   "cell_type": "markdown",
   "id": "823e22eb",
   "metadata": {},
   "source": [
    "Observe that all the **OUTPUT_FILES/DATABASES_MPI** directories created for the elementary sources are soft links pointing to the same **DATABASES_MPI** directory in the database repository."
   ]
  },
  {
   "cell_type": "markdown",
   "id": "1e98f4c0",
   "metadata": {},
   "source": [
    "Once created the symbolic links, the algorithm runs the shell **schedule_solver.sh**  for each elementary source. This instruction is printed but its execution is commented in the script (line 71)  because running the solver for each elementary source may take several hours. Besides, consider that **schedule_solver.sh** only works if you have the slurm workload manager (sbatch) installed in your system. Otherwise, once the algorithm has created the symbolic links, you must run the solver for each elementary source by typing in the terminal: **mpirun -np 16 xspecfem3D** at each **SOLVER_REPO/20171201023244/15/[Mpp,Mrp,Mrr,Mrt,Mtp,Mtt]** directory. "
   ]
  },
  {
   "cell_type": "markdown",
   "id": "2139da5b",
   "metadata": {},
   "source": [
    "## 3. Pre-processing Specfem3D output files"
   ]
  },
  {
   "cell_type": "markdown",
   "id": "52bbb50b",
   "metadata": {},
   "source": [
    "**3.1 Files required for pre-processing Specfem3D output files**\n",
    "\n",
    "Once the synthetics are ready after running the solver for each elementary source, it is time to pre-process them and make a single directory with all the synthetics in the format required by MTUQ.  For the example provided, you can see the raw synthetic seismograms for the 6 elementary sources, running the following cell:\n"
   ]
  },
  {
   "cell_type": "code",
   "execution_count": null,
   "id": "d9a72c97",
   "metadata": {},
   "outputs": [],
   "source": [
    "! ls SOLVER_REPO/20171201023244/15/M*/OUTPUT_FILES/"
   ]
  },
  {
   "cell_type": "markdown",
   "id": "a55ddbcb",
   "metadata": {},
   "source": [
    "For pre-processing all the synthetic seismograms, you need to provide information about the earthquake in a file named **eventinfo.txt**, and about the receivers in **STATIONS**. Both files are in SOLVER_REPO/20171201023244.\n"
   ]
  },
  {
   "cell_type": "markdown",
   "id": "2b83bb77",
   "metadata": {},
   "source": [
    "- **eventinfo.txt** follows the format YYYY-MM-DDTHH:MM:SS LATITUDE LONGITUDE DEPTH Mw.\n",
    "\n",
    "Y stands for year, M  minute, D day, H hour, and S seconds. T is the letter that should be written between the event date and hour. "
   ]
  },
  {
   "cell_type": "code",
   "execution_count": null,
   "id": "bfb29f6e",
   "metadata": {},
   "outputs": [],
   "source": [
    "! cat SOLVER_REPO/20171201023244/eventinfo.txt"
   ]
  },
  {
   "cell_type": "markdown",
   "id": "f8cb93eb",
   "metadata": {},
   "source": [
    "- **STATIONS** follows the same format than the Specfem3D stations file."
   ]
  },
  {
   "cell_type": "code",
   "execution_count": null,
   "id": "fda3c342",
   "metadata": {},
   "outputs": [],
   "source": [
    "! cat SOLVER_REPO/20171201023244/STATIONS"
   ]
  },
  {
   "cell_type": "markdown",
   "id": "26fd64c9",
   "metadata": {},
   "source": [
    "**3.2 Launch the pre-processing**\n",
    "\n",
    "For launching the pre-processing use the option '-o p'. Run the following cell:"
   ]
  },
  {
   "cell_type": "code",
   "execution_count": null,
   "id": "725772c7",
   "metadata": {},
   "outputs": [],
   "source": [
    "%run -i 'make_specfem3D_GF.py' -o p -ev 20171201023244 -ed 15 -dir DATABASES_REPO/1D_VM/16_PROC/"
   ]
  },
  {
   "cell_type": "markdown",
   "id": "434597ec",
   "metadata": {},
   "source": [
    "**The pre-processing consists of:**\n",
    "\n",
    "- Reading the raw synthetics seismograms for all the elementary sources and converting them into SAC files.\n",
    "\n",
    "- Completing SAC files header information: event latitude, longitude, and depth; station latitude, longitude, and depth; network, and component.\n",
    "\n",
    "- Integrating all the SAC files if they were converted from velocity synthetic seismograms (i.e., raw Specfem3D files end in .semv). if the Specfem3D simulations are done in displacement (i.e., raw Specfem3D files end in .semd), the pre-processing will skip the integration part.\n",
    "\n",
    "- Scal amplitudes, consisting of normalizing by dividing all the synthetics seismograms by the source size defined in the CMTSOLLUTION file and then multiply them by 1e7 for converting from dyn.cm to N.m. Ideally, if the source size for calculating the GFs is just one, the scale process just consists on multiply all the synthetics for 1e7. For this example, the source for calculating the GFs has an amplitude of 1e23, and the script scales the synthetics dividing the signal by 1e16, that comes from diving the synthetics by  1e23 and then multyplying them by 1e7 (1e23/1e7 = 1e16).\n",
    "\n",
    "- Rotating the sac files to the radial and transverse components.\n"
   ]
  },
  {
   "cell_type": "markdown",
   "id": "a34b1c4c",
   "metadata": {},
   "source": [
    "If you succeed, you will see a new directory named PROCESSED in addition to the elementary source directories. The example provided created the directory in **SOLVER_REPO/20171201023244/15**.\n",
    "\n",
    "The **PROCESSED** directory contains all the synthetic seismograms from the elementary sources in SAC format, preprocessed and named according to the MTUQ requirements for reading the green functions database. "
   ]
  },
  {
   "cell_type": "code",
   "execution_count": null,
   "id": "1f7f4c0f",
   "metadata": {},
   "outputs": [],
   "source": [
    "os.chdir(main_dir)\n",
    "! ls SOLVER_REPO/20171201023244/15/PROCESSED "
   ]
  },
  {
   "cell_type": "markdown",
   "id": "cdb85107",
   "metadata": {},
   "source": [
    "## 4. Run MTUQ using Specfem3D Green Functions\n",
    "\n",
    "The last step is verifying that MTUQ can read the Green Functions database and run a moment tensor estimation. "
   ]
  },
  {
   "cell_type": "markdown",
   "id": "5945663b",
   "metadata": {},
   "source": [
    "To verify the Green Functions calculated for the provided example, the directory **MTUQ_TEST** contains scripts for running a validation test. The following cell will take you to **MTUQ_TEST** and will show its content\n"
   ]
  },
  {
   "cell_type": "code",
   "execution_count": null,
   "id": "c3670f7c",
   "metadata": {},
   "outputs": [],
   "source": [
    "%cd MTUQ_TEST \n",
    "! ls"
   ]
  },
  {
   "cell_type": "markdown",
   "id": "3243e2a8",
   "metadata": {},
   "source": [
    "- **GFs**: Green Functions databases.\n",
    "- **20171201023244**: observed data for the validation test. This 'observed data' are Specfem3D synthetics calculated with the same velocity model used for the Green Functions. \n",
    "- **EXPECTED_SOLUTIONS**: After running MTUQ, you can compare your results againts the ones in this directory. \n",
    "- **SPECFEM3D_GFs_GridSearch.DoubleCouple_SW_options.py**: script for running an MTUQ double couple grid search. \n",
    "- **SPECFEM3D_GFs_GridSearch.FMT_SW_options.py**: script for running an MTUQ full moment tensor grid search. \n"
   ]
  },
  {
   "cell_type": "markdown",
   "id": "5ab071ab",
   "metadata": {},
   "source": [
    "For calculating the \"observed data\", we run a simulation in Specfem3D using the following source:\n",
    "\n",
    "**Mrr:       1.0e+23\n",
    "Mtt:       0.0\n",
    "Mpp:      -1.0e+23\n",
    "Mrt:       1.0e+23\n",
    "Mrp:      -1.0e+23\n",
    "Mtp:      -1.0e+23**\n",
    "\n",
    "That corresponds to a pure deviatoric source (oblique thrust event with a CLVD percentage).\n",
    "\n",
    "For seeing the input source, run the next cell.\n"
   ]
  },
  {
   "cell_type": "code",
   "execution_count": null,
   "id": "de0bcdaa",
   "metadata": {},
   "outputs": [],
   "source": [
    "Image('Synthetic_input_source.png')"
   ]
  },
  {
   "cell_type": "markdown",
   "id": "88a5ee85",
   "metadata": {},
   "source": [
    "The directory **GFs** follows the pattern **GFs/id_event/depth/**.\n",
    "For the given example, the Green Functions created in **SOLVER_REPO/20171201023244/15/PROCESSED/** have to be saved in  **MTUQ_TEST/GFs/20171201023244/15**. Run the following cell for creating the subdirectories in **20171201023244** and **15** in **GFs** and copy the Green Functions "
   ]
  },
  {
   "cell_type": "code",
   "execution_count": null,
   "id": "1e93a3c7",
   "metadata": {},
   "outputs": [],
   "source": [
    "%mkdir -p GFs/20171201023244/15 \n",
    "%cp ../SOLVER_REPO/20171201023244/15/PROCESSED/* GFs/20171201023244/15/"
   ]
  },
  {
   "cell_type": "markdown",
   "id": "141295c1",
   "metadata": {},
   "source": [
    "**4.1 Double couple grid-search:**\n",
    "\n",
    "The script **SPECFEM3D_GFs_GridSearch.DoubleCouple_SW_options.py** performs a double couple moment tensor estimation. \n",
    "Run the following cell for seing the options:"
   ]
  },
  {
   "cell_type": "code",
   "execution_count": null,
   "id": "1834beed",
   "metadata": {},
   "outputs": [],
   "source": [
    "%run -i 'SPECFEM3D_GFs_GridSearch.DoubleCouple_SW_options.py' -h "
   ]
  },
  {
   "cell_type": "markdown",
   "id": "e2462491",
   "metadata": {},
   "source": [
    "The parameters shown in the next cell will launch the moment tensor estimation for the test event prepared for this example. "
   ]
  },
  {
   "cell_type": "code",
   "execution_count": null,
   "id": "2f6ac9b5",
   "metadata": {},
   "outputs": [],
   "source": []
  },
  {
   "cell_type": "markdown",
   "id": "a225e247",
   "metadata": {},
   "source": [
    "If you have an error like:\n",
    "\n",
    "FileNotFoundError: [Errno 2] No such file or directory: 'tmp.png'\n",
    "\n",
    "Then run the script directly in the terminal:\n",
    "\n",
    "*mpirun -np 8 python SPECFEM3D_GFs_GridSearch.DoubleCouple_SW_options.py -event 20171201023244 -evla 30.734 -evlo 57.390 -evdp 15000 -mw 4.8 -time 2017-12-01T02:32:44.00000Z -np 50 -fb 10-100*"
   ]
  },
  {
   "cell_type": "markdown",
   "id": "381f807b",
   "metadata": {},
   "source": [
    "Open the file **20171201023244DC_waveforms.png** for seing the MTUQ output"
   ]
  },
  {
   "cell_type": "code",
   "execution_count": null,
   "id": "01431ce1",
   "metadata": {},
   "outputs": [],
   "source": [
    "Image(\"20171201023244DC_waveforms.png\")"
   ]
  },
  {
   "cell_type": "markdown",
   "id": "b984ecfa",
   "metadata": {},
   "source": [
    "The synthetics (red) are similar but not identical to the observed data (black). This is because the grid search is coarse and because the inversion is constrained for being double couple. However, the true source is deviatoric. As finer is the grid-search, which implies a larger number in the option **-np**, more similar the synthetics and observed seismograms will be. "
   ]
  },
  {
   "cell_type": "markdown",
   "id": "3a1fa91b",
   "metadata": {},
   "source": [
    "For seeing the misfit distribution associated to the grid-search, open the figure **20171201023244DC_misfit.png**."
   ]
  },
  {
   "cell_type": "code",
   "execution_count": null,
   "id": "63f5ba37",
   "metadata": {},
   "outputs": [],
   "source": [
    "Image(\"20171201023244DC_misfit.png\")"
   ]
  },
  {
   "cell_type": "markdown",
   "id": "26845182",
   "metadata": {},
   "source": [
    "**4.1 Full moment tensor grid-search:**\n",
    "\n",
    "The script **SPECFEM3D_GFs_GridSearch.FMT_SW_options.py** performs a full moment tensor estimation. \n",
    "Options are the same than the double couple script. Run the following cell for seeing the options:"
   ]
  },
  {
   "cell_type": "code",
   "execution_count": null,
   "id": "8f99bdaf",
   "metadata": {},
   "outputs": [],
   "source": [
    "%run -i 'SPECFEM3D_GFs_GridSearch.FMT_SW_options.py' -h "
   ]
  },
  {
   "cell_type": "markdown",
   "id": "371e0eb6",
   "metadata": {},
   "source": [
    "The following cell will launch a full moment tensor grid-search "
   ]
  },
  {
   "cell_type": "code",
   "execution_count": null,
   "id": "f75b1f57",
   "metadata": {},
   "outputs": [],
   "source": [
    "%run -i 'SPECFEM3D_GFs_GridSearch.FMT_SW_options.py' -event 20171201023244 -evla 30.734 -evlo 57.390 -evdp 15000 -mw 4.8 -time 2017-12-01T02:32:44.00000Z -np 9 -fb 10-100"
   ]
  },
  {
   "cell_type": "markdown",
   "id": "28fd8a6d",
   "metadata": {},
   "source": [
    "If you have an error like:\n",
    "\n",
    "FileNotFoundError: [Errno 2] No such file or directory: 'tmp.png'\n",
    "\n",
    "Then run the script directly in the terminal:\n",
    "\n",
    "*mpirun -np 8 python SPECFEM3D_GFs_GridSearch.FMT_SW_options.py -event 20171201023244 -evla 30.734 -evlo 57.390 -evdp 15000 -mw 4.8 -time 2017-12-01T02:32:44.00000Z -np 9 -fb 10-100*"
   ]
  },
  {
   "cell_type": "code",
   "execution_count": null,
   "id": "8b2d0e8f",
   "metadata": {},
   "outputs": [],
   "source": [
    "Image(\"20171201023244FMT_cat_waveforms.png\")"
   ]
  },
  {
   "cell_type": "markdown",
   "id": "a9b90532",
   "metadata": {},
   "source": [
    "For seeing the misfit distribution on the lune plot associated to the grid-search, open the figure **20171201023244FMT_cat_misfit_mt.png**."
   ]
  },
  {
   "cell_type": "code",
   "execution_count": null,
   "id": "5487e5a8",
   "metadata": {},
   "outputs": [],
   "source": [
    "Image(\"20171201023244FMT_cat_misfit_mt.png\")"
   ]
  },
  {
   "cell_type": "markdown",
   "id": "2746c0e3",
   "metadata": {},
   "source": [
    "Observe that the synthetics and observed are almost identical and the retrieved source is almost the same than the input source. Eventually with a large enough number point per axis (**-np**), the retrieved source will be identical to the input one, and synthetics and \"observed\" data will be identical as well. You can compare your solutions against the ones saved in the directory EXPECTED_SOLUTIONS."
   ]
  }
 ],
 "metadata": {
  "kernelspec": {
   "display_name": "mtuq",
   "language": "python",
   "name": "mtuq"
  },
  "language_info": {
   "codemirror_mode": {
    "name": "ipython",
    "version": 3
   },
   "file_extension": ".py",
   "mimetype": "text/x-python",
   "name": "python",
   "nbconvert_exporter": "python",
   "pygments_lexer": "ipython3",
   "version": "3.8.13"
  }
 },
 "nbformat": 4,
 "nbformat_minor": 5
}
